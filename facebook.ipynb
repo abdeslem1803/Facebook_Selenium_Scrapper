{
 "cells": [
  {
   "cell_type": "code",
   "execution_count": 120,
   "id": "e5887a0c",
   "metadata": {},
   "outputs": [],
   "source": [
    "from selenium import webdriver\n",
    "from selenium.webdriver.common.keys import Keys\n",
    "from selenium.webdriver.support import expected_conditions as EC\n",
    "from selenium.webdriver.common.by import By\n",
    "from selenium.webdriver.support.wait import WebDriverWait\n",
    "import os\n",
    "import time"
   ]
  },
  {
   "cell_type": "code",
   "execution_count": 121,
   "id": "50f3de29",
   "metadata": {},
   "outputs": [],
   "source": [
    "user_name=\"\"\n",
    "user_password=\"\"\n",
    "keyword=\"\""
   ]
  },
  {
   "cell_type": "code",
   "execution_count": 122,
   "id": "e0458601",
   "metadata": {},
   "outputs": [
    {
     "name": "stderr",
     "output_type": "stream",
     "text": [
      "C:\\Users\\Client\\AppData\\Local\\Temp/ipykernel_7952/972730287.py:3: DeprecationWarning: executable_path has been deprecated, please pass in a Service object\n",
      "  driver = webdriver.Chrome('C:/Users/Client/Documents/cours/AIC/chromedriver.exe',chrome_options=chrome_options)\n",
      "C:\\Users\\Client\\AppData\\Local\\Temp/ipykernel_7952/972730287.py:3: DeprecationWarning: use options instead of chrome_options\n",
      "  driver = webdriver.Chrome('C:/Users/Client/Documents/cours/AIC/chromedriver.exe',chrome_options=chrome_options)\n"
     ]
    }
   ],
   "source": [
    "#il faut telecharger le fichier chromedriver.exe et maitre son chemin comme premier argument dans la fonction de webdriver.chrome\n",
    " \n",
    "driver = webdriver.Chrome('C:/Users/Client/Documents/cours/AIC/chromedriver.exe',chrome_options=chrome_options)\n",
    "driver.get(\"http://www.facebook.com\") #ouvrir le navigateur et le rediriger vers la page de facebook.com\n",
    "time.sleep(5)\n",
    "button = WebDriverWait(driver, 2).until(EC.element_to_be_clickable((By.CSS_SELECTOR, \"button[title='Tout accepter']\"))).click()\n",
    "time.sleep(5)\n",
    "\n"
   ]
  },
  {
   "cell_type": "code",
   "execution_count": 123,
   "id": "f530b2ae",
   "metadata": {},
   "outputs": [],
   "source": [
    "username = WebDriverWait(driver, 10).until(EC.element_to_be_clickable((By.CSS_SELECTOR, \"input[name='email']\")))\n",
    "password = WebDriverWait(driver, 10).until(EC.element_to_be_clickable((By.CSS_SELECTOR, \"input[name='pass']\")))\n",
    "\n",
    "#entrer l'email et le mot de passe\n",
    "username.clear()\n",
    "username.send_keys(user_name)\n",
    "password.clear()\n",
    "password.send_keys(user_password)\n",
    "\n",
    "#pour cliquer sur connecter \n",
    "button = WebDriverWait(driver, 2).until(EC.element_to_be_clickable((By.CSS_SELECTOR, \"button[type='submit']\"))).click()\n",
    "#connecter à un compte Facebook\n",
    "time.sleep(10)"
   ]
  },
  {
   "cell_type": "code",
   "execution_count": 124,
   "id": "72bd20f3",
   "metadata": {},
   "outputs": [],
   "source": [
    "\n",
    "searchbox = WebDriverWait(driver, 10).until(EC.element_to_be_clickable((By.XPATH, \"//input[@placeholder='Rechercher sur Facebook']\")))\n",
    "searchbox.clear()\n",
    "\n",
    "searchbox.send_keys(keyword)\n",
    "#entrer la requete dans la bar de recherche de Facebook\n",
    "\n",
    "time.sleep(5)\n",
    "searchbox.send_keys(Keys.ENTER)\n",
    "time.sleep(5)\n",
    "searchbox.send_keys(Keys.ENTER)\n",
    "time.sleep(5)\n"
   ]
  },
  {
   "cell_type": "code",
   "execution_count": 125,
   "id": "f725396a",
   "metadata": {},
   "outputs": [],
   "source": [
    "import re\n",
    "link = driver.current_url\n",
    "new_link = re.sub(r'top', 'posts', link)\n",
    "#afficher les publication liees au sujet recherche\n",
    "\n",
    "driver.get(new_link)\n",
    "time.sleep(10)\n"
   ]
  },
  {
   "cell_type": "code",
   "execution_count": 126,
   "id": "de9d4362",
   "metadata": {},
   "outputs": [],
   "source": [
    "import pymongo\n",
    "url='mongodb://127.0.0.1:27017/'\n",
    "con  = pymongo.MongoClient(url)\n",
    "mydb=con['scrapper']\n",
    "pub = mydb['publications']\n",
    "\n",
    "#se connecter a la base de donnees de Mongodb"
   ]
  },
  {
   "cell_type": "code",
   "execution_count": 127,
   "id": "ca600705",
   "metadata": {},
   "outputs": [],
   "source": [
    "all_publications = driver.find_elements(By.CSS_SELECTOR,'body > div > div > div > div > div > div > div > div > div > div:nth-child(2) > div > div > div > div > div > div ')\n",
    "#selectioner que les div qui contiennent des publications\n",
    "for publication in all_publications:\n",
    "    post={}\n",
    "    try:\n",
    "        post['texte']=publication.find_elements(By.CSS_SELECTOR,'div[dir=\"auto\"]')[0].get_attribute('innerText')\n",
    "        #selectioner le texte de la publication\n",
    "    except:\n",
    "        pass\n",
    "    try:\n",
    "        post['image']=publication.find_elements(By.CSS_SELECTOR,'div[dir=\"auto\"]+div')[0].find_elements_by_tag_name('img')[0].get_attribute('src')\n",
    "        #selectioner le l'image de la publication\n",
    "    except:\n",
    "        pass\n",
    "    if post != {}:\n",
    "        pub.insert_one(post)\n",
    "        #inserer la publication dans la base de donnees\n"
   ]
  }
 ],
 "metadata": {
  "kernelspec": {
   "display_name": "Python 3 (ipykernel)",
   "language": "python",
   "name": "python3"
  },
  "language_info": {
   "codemirror_mode": {
    "name": "ipython",
    "version": 3
   },
   "file_extension": ".py",
   "mimetype": "text/x-python",
   "name": "python",
   "nbconvert_exporter": "python",
   "pygments_lexer": "ipython3",
   "version": "3.9.7"
  }
 },
 "nbformat": 4,
 "nbformat_minor": 5
}
